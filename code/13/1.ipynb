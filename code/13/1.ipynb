{
  "nbformat": 4,
  "nbformat_minor": 0,
  "metadata": {
    "colab": {
      "name": "Untitled0.ipynb",
      "version": "0.3.2",
      "provenance": [],
      "collapsed_sections": []
    },
    "kernelspec": {
      "name": "python3",
      "display_name": "Python 3"
    }
  },
  "cells": [
    {
      "metadata": {
        "id": "lGls4qBcP_AU",
        "colab_type": "code",
        "colab": {}
      },
      "cell_type": "code",
      "source": [
        "import asyncio\n",
        "import numpy as np\n",
        "from PIL import Image\n",
        "import time\n",
        "from concurrent import futures\n"
      ],
      "execution_count": 0,
      "outputs": []
    },
    {
      "metadata": {
        "id": "JvuLJYYlQG0i",
        "colab_type": "code",
        "outputId": "8aeb11a9-6ca1-4788-f0f1-99460df5c364",
        "colab": {
          "base_uri": "https://localhost:8080/",
          "height": 34
        }
      },
      "cell_type": "code",
      "source": [
        "def main():\n",
        "    async def f1():\n",
        "        await asyncio.sleep(0.1)\n",
        "\n",
        "    async def f2(im, i):\n",
        "        for j in range(60):\n",
        "            Image.fromarray(im).convert(\"L\").save(\"./{}.png\".format(str(i)))\n",
        "\n",
        "    async def f3(im, i):\n",
        "        for _ in range(60):\n",
        "            g = Image.fromarray(im).convert(\"L\")\n",
        "            g.save(\"./{}.png\".format(str(i)))\n",
        "\n",
        "    im = np.random.randint(0, 256, (240, 256, 3)).astype(\"uint8\")\n",
        "\n",
        "    loop = asyncio.get_event_loop()\n",
        "    s = time.time()\n",
        "    for i in range(10):\n",
        "        result = loop.run_until_complete(\n",
        "            asyncio.gather(\n",
        "                f1(),\n",
        "                f3(im, i)\n",
        "            )\n",
        "        )\n",
        "    print(time.time() - s)\n",
        "    \n",
        "main()"
      ],
      "execution_count": 0,
      "outputs": [
        {
          "output_type": "stream",
          "text": [
            "3.782989263534546\n"
          ],
          "name": "stdout"
        }
      ]
    },
    {
      "metadata": {
        "id": "4wy-hFhcQNyq",
        "colab_type": "code",
        "outputId": "04014e64-0def-4bce-fa0e-474153c77518",
        "colab": {
          "base_uri": "https://localhost:8080/",
          "height": 34
        }
      },
      "cell_type": "code",
      "source": [
        "def main2():\n",
        "    async def f1():\n",
        "        await asyncio.sleep(0.1)\n",
        "\n",
        "    async def f3(im, i):\n",
        "        for _ in range(60):\n",
        "            g = Image.fromarray(im).convert(\"L\")\n",
        "            g.save(\"./{}.png\".format(str(i)))\n",
        "\n",
        "    im = np.random.randint(0, 256, (240, 256, 3)).astype(\"uint8\")\n",
        "\n",
        "    loop = asyncio.get_event_loop()\n",
        "    s = time.time()\n",
        "    for i in range(10):\n",
        "        result = loop.run_until_complete(\n",
        "            asyncio.gather(\n",
        "                f1(),\n",
        "                f3(im, i)\n",
        "            )\n",
        "        )\n",
        "    print(time.time() - s)\n",
        "    \n",
        "main2()"
      ],
      "execution_count": 0,
      "outputs": [
        {
          "output_type": "stream",
          "text": [
            "2.7405879497528076\n"
          ],
          "name": "stdout"
        }
      ]
    },
    {
      "metadata": {
        "id": "E7d8sd1FrpmN",
        "colab_type": "code",
        "outputId": "547194d2-2a1e-44f8-f23c-98a0cc33442d",
        "colab": {
          "base_uri": "https://localhost:8080/",
          "height": 34
        }
      },
      "cell_type": "code",
      "source": [
        "def main3():\n",
        "    def f1():\n",
        "        time.sleep(0.1)\n",
        "        return 1\n",
        "\n",
        "    def f3(im, i):\n",
        "        for _ in range(60):\n",
        "            g = Image.fromarray(im).convert(\"L\")\n",
        "            g.save(\"./{}.png\".format(str(i)))\n",
        "        return 3\n",
        "\n",
        "    im = np.random.randint(0, 256, (240, 256, 3)).astype(\"uint8\")\n",
        "\n",
        "    loop = asyncio.get_event_loop()\n",
        "    executor = futures.ThreadPoolExecutor(max_workers=10)\n",
        "\n",
        "    s = time.time()\n",
        "\n",
        "    for i in range(10):\n",
        "        coroutine_list = [loop.run_in_executor(executor, f3, *(im,i)),\n",
        "                  loop.run_in_executor(executor, f1, )]\n",
        "        task = asyncio.gather(*coroutine_list)\n",
        "        task = asyncio.ensure_future(task)\n",
        "        loop.run_until_complete(task)\n",
        "        # print(task.result())\n",
        "\n",
        "    print(time.time() - s)\n",
        "\n",
        "\n",
        "main3()\n",
        "\n"
      ],
      "execution_count": 0,
      "outputs": [
        {
          "output_type": "stream",
          "text": [
            "2.7594215869903564\n"
          ],
          "name": "stdout"
        }
      ]
    }
  ]
}